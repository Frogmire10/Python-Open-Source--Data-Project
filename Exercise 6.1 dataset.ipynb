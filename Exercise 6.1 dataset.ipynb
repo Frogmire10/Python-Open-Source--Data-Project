{
 "cells": [
  {
   "cell_type": "code",
   "execution_count": 12,
   "id": "505b25af-e881-410e-a57c-32981a5a1882",
   "metadata": {},
   "outputs": [
    {
     "name": "stdout",
     "output_type": "stream",
     "text": [
      "Original Data:\n",
      "   conflict_id  dyad_id location_inc              side_a side_a_id side_a_2nd  \\\n",
      "0          205      406         Iran  Government of Iran       114        NaN   \n",
      "1          205      406         Iran  Government of Iran       114        NaN   \n",
      "2          205      406         Iran  Government of Iran       114        NaN   \n",
      "3          205      406         Iran  Government of Iran       114        NaN   \n",
      "4          205      406         Iran  Government of Iran       114        NaN   \n",
      "\n",
      "  side_b side_b_id side_b_2nd  incompatibility  ... type_of_conflict  \\\n",
      "0   KDPI       164        NaN                1  ...                3   \n",
      "1   KDPI       164        NaN                1  ...                3   \n",
      "2   KDPI       164        NaN                1  ...                3   \n",
      "3   KDPI       164        NaN                1  ...                3   \n",
      "4   KDPI       164        NaN                1  ...                3   \n",
      "\n",
      "   battle_location  gwno_a  gwno_a_2nd  gwno_b  gwno_b_2nd gwno_loc  \\\n",
      "0             Iran     630         NaN     NaN         NaN      630   \n",
      "1       Iran, Iraq     630         NaN     NaN         NaN      630   \n",
      "2       Iran, Iraq     630         NaN     NaN         NaN      630   \n",
      "3       Iran, Iraq     630         NaN     NaN         NaN      630   \n",
      "4       Iran, Iraq     630         NaN     NaN         NaN      630   \n",
      "\n",
      "  gwno_battle region version  \n",
      "0         630      2    24.1  \n",
      "1    630, 645      2    24.1  \n",
      "2    630, 645      2    24.1  \n",
      "3    630, 645      2    24.1  \n",
      "4    630, 645      2    24.1  \n",
      "\n",
      "[5 rows x 25 columns]\n"
     ]
    }
   ],
   "source": [
    "import pandas as pd\n",
    "\n",
    "# Load the dataset\n",
    "file_path = '/Users/andrewfearney27/Downloads/BattleDeaths.xlsx'  # Ensure this path is correct\n",
    "data = pd.read_excel(file_path)\n",
    "\n",
    "# Display the first few rows of the dataset\n",
    "print(\"Original Data:\")\n",
    "print(data.head())\n"
   ]
  },
  {
   "cell_type": "code",
   "execution_count": 13,
   "id": "0319396a-9f3b-4855-9fdf-10ef6164596a",
   "metadata": {},
   "outputs": [
    {
     "name": "stdout",
     "output_type": "stream",
     "text": [
      "\n",
      "Data after removing duplicates:\n",
      "   conflict_id  dyad_id location_inc              side_a side_a_id side_a_2nd  \\\n",
      "0          205      406         Iran  Government of Iran       114        NaN   \n",
      "1          205      406         Iran  Government of Iran       114        NaN   \n",
      "2          205      406         Iran  Government of Iran       114        NaN   \n",
      "3          205      406         Iran  Government of Iran       114        NaN   \n",
      "4          205      406         Iran  Government of Iran       114        NaN   \n",
      "\n",
      "  side_b side_b_id side_b_2nd  incompatibility  ... type_of_conflict  \\\n",
      "0   KDPI       164        NaN                1  ...                3   \n",
      "1   KDPI       164        NaN                1  ...                3   \n",
      "2   KDPI       164        NaN                1  ...                3   \n",
      "3   KDPI       164        NaN                1  ...                3   \n",
      "4   KDPI       164        NaN                1  ...                3   \n",
      "\n",
      "   battle_location  gwno_a  gwno_a_2nd  gwno_b  gwno_b_2nd gwno_loc  \\\n",
      "0             Iran     630         NaN     NaN         NaN      630   \n",
      "1       Iran, Iraq     630         NaN     NaN         NaN      630   \n",
      "2       Iran, Iraq     630         NaN     NaN         NaN      630   \n",
      "3       Iran, Iraq     630         NaN     NaN         NaN      630   \n",
      "4       Iran, Iraq     630         NaN     NaN         NaN      630   \n",
      "\n",
      "  gwno_battle region version  \n",
      "0         630      2    24.1  \n",
      "1    630, 645      2    24.1  \n",
      "2    630, 645      2    24.1  \n",
      "3    630, 645      2    24.1  \n",
      "4    630, 645      2    24.1  \n",
      "\n",
      "[5 rows x 25 columns]\n"
     ]
    }
   ],
   "source": [
    "# Step 1: Remove exact duplicate rows\n",
    "data_cleaned = data.drop_duplicates()\n",
    "\n",
    "# Display the first few rows of the cleaned dataset\n",
    "print(\"\\nData after removing duplicates:\")\n",
    "print(data_cleaned.head())"
   ]
  },
  {
   "cell_type": "code",
   "execution_count": 14,
   "id": "bdd6f07c-b2b1-4d44-8f02-0e0106e31598",
   "metadata": {},
   "outputs": [],
   "source": [
    "# Step 2: Identify inconsistencies (e.g., different spellings)\n",
    "# For demonstration, let's assume we found inconsistencies in the 'location_inc' column\n",
    "\n",
    "# Correct the inconsistencies\n",
    "data_cleaned['location_inc'] = data_cleaned['location_inc'].replace({\n",
    "    'myanmar (burma)': 'myanmar', \n",
    "    'iran, islamic republic of': 'iran'\n",
    "})\n"
   ]
  },
  {
   "cell_type": "code",
   "execution_count": 15,
   "id": "650667d3-02ca-4e9b-85c9-5683d6f7e5f9",
   "metadata": {},
   "outputs": [
    {
     "name": "stdout",
     "output_type": "stream",
     "text": [
      "\n",
      "Data after correcting inconsistencies:\n",
      "   conflict_id  dyad_id location_inc              side_a side_a_id side_a_2nd  \\\n",
      "0          205      406         Iran  Government of Iran       114        NaN   \n",
      "1          205      406         Iran  Government of Iran       114        NaN   \n",
      "2          205      406         Iran  Government of Iran       114        NaN   \n",
      "3          205      406         Iran  Government of Iran       114        NaN   \n",
      "4          205      406         Iran  Government of Iran       114        NaN   \n",
      "\n",
      "  side_b side_b_id side_b_2nd  incompatibility  ... type_of_conflict  \\\n",
      "0   KDPI       164        NaN                1  ...                3   \n",
      "1   KDPI       164        NaN                1  ...                3   \n",
      "2   KDPI       164        NaN                1  ...                3   \n",
      "3   KDPI       164        NaN                1  ...                3   \n",
      "4   KDPI       164        NaN                1  ...                3   \n",
      "\n",
      "   battle_location  gwno_a  gwno_a_2nd  gwno_b  gwno_b_2nd gwno_loc  \\\n",
      "0             Iran     630         NaN     NaN         NaN      630   \n",
      "1       Iran, Iraq     630         NaN     NaN         NaN      630   \n",
      "2       Iran, Iraq     630         NaN     NaN         NaN      630   \n",
      "3       Iran, Iraq     630         NaN     NaN         NaN      630   \n",
      "4       Iran, Iraq     630         NaN     NaN         NaN      630   \n",
      "\n",
      "  gwno_battle region version  \n",
      "0         630      2    24.1  \n",
      "1    630, 645      2    24.1  \n",
      "2    630, 645      2    24.1  \n",
      "3    630, 645      2    24.1  \n",
      "4    630, 645      2    24.1  \n",
      "\n",
      "[5 rows x 25 columns]\n"
     ]
    }
   ],
   "source": [
    "# Display the first few rows of the cleaned dataset\n",
    "print(\"\\nData after correcting inconsistencies:\")\n",
    "print(data_cleaned.head())"
   ]
  },
  {
   "cell_type": "code",
   "execution_count": 17,
   "id": "5881947a-31c1-4b54-9611-8c9e385fd1bc",
   "metadata": {},
   "outputs": [
    {
     "name": "stdout",
     "output_type": "stream",
     "text": [
      "\n",
      "Missing values in each column:\n",
      "conflict_id            0\n",
      "dyad_id                0\n",
      "location_inc           0\n",
      "side_a                 0\n",
      "side_a_id              0\n",
      "side_a_2nd             0\n",
      "side_b                 0\n",
      "side_b_id              0\n",
      "side_b_2nd             0\n",
      "incompatibility        0\n",
      "territory_name      1032\n",
      "year                   0\n",
      "bd_best                0\n",
      "bd_low                 0\n",
      "bd_high                0\n",
      "type_of_conflict       0\n",
      "battle_location        0\n",
      "gwno_a                 0\n",
      "gwno_a_2nd          1547\n",
      "gwno_b              1874\n",
      "gwno_b_2nd          1835\n",
      "gwno_loc               0\n",
      "gwno_battle            0\n",
      "region                 0\n",
      "version                0\n",
      "dtype: int64\n"
     ]
    }
   ],
   "source": [
    "# Step 3: Handle missing values\n",
    "missing_values = data_cleaned.isnull().sum()\n",
    "print(\"\\nMissing values in each column:\")\n",
    "print(missing_values)\n"
   ]
  },
  {
   "cell_type": "code",
   "execution_count": 18,
   "id": "1ee50bff-3983-4df0-a7fb-632f360abdbc",
   "metadata": {},
   "outputs": [],
   "source": [
    "data_cleaned.to_csv('cleaned_battle_deaths.csv', index=False)"
   ]
  },
  {
   "cell_type": "code",
   "execution_count": null,
   "id": "eb8ee959-3297-40f5-829d-058712337902",
   "metadata": {},
   "outputs": [],
   "source": []
  }
 ],
 "metadata": {
  "kernelspec": {
   "display_name": "Python 3 (ipykernel)",
   "language": "python",
   "name": "python3"
  },
  "language_info": {
   "codemirror_mode": {
    "name": "ipython",
    "version": 3
   },
   "file_extension": ".py",
   "mimetype": "text/x-python",
   "name": "python",
   "nbconvert_exporter": "python",
   "pygments_lexer": "ipython3",
   "version": "3.11.7"
  }
 },
 "nbformat": 4,
 "nbformat_minor": 5
}
