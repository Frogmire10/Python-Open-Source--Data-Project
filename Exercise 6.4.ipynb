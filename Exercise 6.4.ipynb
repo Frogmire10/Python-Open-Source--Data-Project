{
 "cells": [
  {
   "cell_type": "code",
   "execution_count": 9,
   "id": "e007737b-8529-455a-bd04-d85fa7171c1c",
   "metadata": {},
   "outputs": [],
   "source": [
    "import pandas as pd\n",
    "import numpy as np\n",
    "import seaborn as sns\n",
    "import matplotlib.pyplot as plt\n",
    "from sklearn.model_selection import train_test_split\n",
    "from sklearn.linear_model import LinearRegression\n",
    "from sklearn.metrics import mean_squared_error, r2_score\n"
   ]
  },
  {
   "cell_type": "code",
   "execution_count": 10,
   "id": "499a67f2-4678-4aa6-94cf-680e366c8018",
   "metadata": {},
   "outputs": [],
   "source": [
    "csv_path = '/Users/andrewfearney27/cleaned_battle_deaths.csv'\n",
    "df = pd.read_csv(csv_path)\n"
   ]
  },
  {
   "cell_type": "code",
   "execution_count": 13,
   "id": "78eacda4-6653-4f6c-95e6-259bc3dd5b42",
   "metadata": {},
   "outputs": [
    {
     "name": "stdout",
     "output_type": "stream",
     "text": [
      "<bound method NDFrame.head of       conflict_id  dyad_id           location_inc  \\\n",
      "0             205      406                   Iran   \n",
      "1             205      406                   Iran   \n",
      "2             205      406                   Iran   \n",
      "3             205      406                   Iran   \n",
      "4             205      406                   Iran   \n",
      "...           ...      ...                    ...   \n",
      "1915          289    17247               Colombia   \n",
      "1916          399    17511  Russia (Soviet Union)   \n",
      "1917          399    17528  Russia (Soviet Union)   \n",
      "1918          404    17628               Pakistan   \n",
      "1919        16038    17666                   Mali   \n",
      "\n",
      "                                   side_a side_a_id side_a_2nd    side_b  \\\n",
      "0                      Government of Iran       114    Unknown      KDPI   \n",
      "1                      Government of Iran       114    Unknown      KDPI   \n",
      "2                      Government of Iran       114    Unknown      KDPI   \n",
      "3                      Government of Iran       114    Unknown      KDPI   \n",
      "4                      Government of Iran       114    Unknown      KDPI   \n",
      "...                                   ...       ...        ...       ...   \n",
      "1915               Government of Colombia        17    Unknown  FARC-EMC   \n",
      "1916  Government of Russia (Soviet Union)        57    Unknown       LSR   \n",
      "1917  Government of Russia (Soviet Union)        57    Unknown    Wagner   \n",
      "1918               Government of Pakistan       142    Unknown       TJP   \n",
      "1919                   Government of Mali        72    Unknown  CSP-PSD    \n",
      "\n",
      "     side_b_id side_b_2nd  incompatibility  ... type_of_conflict  \\\n",
      "0          164    Unknown                1  ...                3   \n",
      "1          164    Unknown                1  ...                3   \n",
      "2          164    Unknown                1  ...                3   \n",
      "3          164    Unknown                1  ...                3   \n",
      "4          164    Unknown                1  ...                3   \n",
      "...        ...        ...              ...  ...              ...   \n",
      "1915      8468    Unknown                2  ...                3   \n",
      "1916      8640    Unknown                2  ...                3   \n",
      "1917      8650    Unknown                2  ...                3   \n",
      "1918      8789    Unknown                2  ...                3   \n",
      "1919      8822    Unknown                3  ...                3   \n",
      "\n",
      "            battle_location  gwno_a  gwno_a_2nd  gwno_b  gwno_b_2nd gwno_loc  \\\n",
      "0                      Iran     630         NaN     NaN         NaN      630   \n",
      "1                Iran, Iraq     630         NaN     NaN         NaN      630   \n",
      "2                Iran, Iraq     630         NaN     NaN         NaN      630   \n",
      "3                Iran, Iraq     630         NaN     NaN         NaN      630   \n",
      "4                Iran, Iraq     630         NaN     NaN         NaN      630   \n",
      "...                     ...     ...         ...     ...         ...      ...   \n",
      "1915         Colombia, Peru     100         NaN     NaN         NaN      100   \n",
      "1916  Russia (Soviet Union)     365         NaN     NaN         NaN      365   \n",
      "1917  Russia (Soviet Union)     365         NaN     NaN         NaN      365   \n",
      "1918               Pakistan     770         NaN     NaN         NaN      770   \n",
      "1919                   Mali     432         NaN     NaN         NaN      432   \n",
      "\n",
      "     gwno_battle region version  \n",
      "0            630      2    24.1  \n",
      "1       630, 645      2    24.1  \n",
      "2       630, 645      2    24.1  \n",
      "3       630, 645      2    24.1  \n",
      "4       630, 645      2    24.1  \n",
      "...          ...    ...     ...  \n",
      "1915    100, 135      5    24.1  \n",
      "1916         365      1    24.1  \n",
      "1917         365      1    24.1  \n",
      "1918         770      3    24.1  \n",
      "1919         432      4    24.1  \n",
      "\n",
      "[1920 rows x 25 columns]>\n"
     ]
    }
   ],
   "source": [
    "print (df.head)"
   ]
  },
  {
   "cell_type": "code",
   "execution_count": 12,
   "id": "9a0cb6c3-920e-4760-950d-f4b3c749b57e",
   "metadata": {},
   "outputs": [
    {
     "name": "stdout",
     "output_type": "stream",
     "text": [
      "Index(['conflict_id', 'dyad_id', 'location_inc', 'side_a', 'side_a_id',\n",
      "       'side_a_2nd', 'side_b', 'side_b_id', 'side_b_2nd', 'incompatibility',\n",
      "       'territory_name', 'year', 'bd_best', 'bd_low', 'bd_high',\n",
      "       'type_of_conflict', 'battle_location', 'gwno_a', 'gwno_a_2nd', 'gwno_b',\n",
      "       'gwno_b_2nd', 'gwno_loc', 'gwno_battle', 'region', 'version'],\n",
      "      dtype='object')\n"
     ]
    }
   ],
   "source": [
    "print(df.columns)\n"
   ]
  },
  {
   "cell_type": "code",
   "execution_count": 14,
   "id": "834a12e6-df40-4079-914d-054b84cf4053",
   "metadata": {},
   "outputs": [
    {
     "name": "stdout",
     "output_type": "stream",
     "text": [
      "(1920, 25)\n"
     ]
    }
   ],
   "source": [
    "print(df.shape)"
   ]
  },
  {
   "cell_type": "code",
   "execution_count": 15,
   "id": "d24835b5-1172-4389-b7b2-3718c00f77e8",
   "metadata": {},
   "outputs": [
    {
     "name": "stdout",
     "output_type": "stream",
     "text": [
      "territory_name    1032\n",
      "gwno_a_2nd        1547\n",
      "gwno_b            1874\n",
      "gwno_b_2nd        1835\n",
      "dtype: int64\n"
     ]
    }
   ],
   "source": [
    "#Check for missing values\n",
    "missing_values = df.isnull().sum()\n",
    "print(missing_values[missing_values > 0])\n"
   ]
  },
  {
   "cell_type": "code",
   "execution_count": 17,
   "id": "4c096a6e-6928-4bcb-9180-8690e2ff1141",
   "metadata": {},
   "outputs": [],
   "source": [
    "df.dropna(inplace=True)  #Drop rows with missing values\n"
   ]
  },
  {
   "cell_type": "code",
   "execution_count": 18,
   "id": "dfb8f1af-b9ca-442b-8f1d-d9db0f49f53d",
   "metadata": {},
   "outputs": [
    {
     "data": {
      "text/plain": [
       "0"
      ]
     },
     "execution_count": 18,
     "metadata": {},
     "output_type": "execute_result"
    }
   ],
   "source": [
    "df.duplicated().sum()\n"
   ]
  },
  {
   "cell_type": "code",
   "execution_count": 40,
   "id": "93235740-7d35-4f9d-87e1-e3326b2507a6",
   "metadata": {},
   "outputs": [
    {
     "name": "stdout",
     "output_type": "stream",
     "text": [
      "[]\n",
      "Empty DataFrame\n",
      "Columns: [conflict_id, dyad_id, location_inc, side_a, side_a_id, side_a_2nd, side_b, side_b_id, side_b_2nd, incompatibility, territory_name, year, bd_best, bd_low, bd_high, type_of_conflict, battle_location, gwno_a, gwno_a_2nd, gwno_b, gwno_b_2nd, gwno_loc, gwno_battle, region, version]\n",
      "Index: []\n",
      "\n",
      "[0 rows x 25 columns]\n"
     ]
    }
   ],
   "source": [
    "#Print the unique values in 'type_of_conflict'\n",
    "print(df['type_of_conflict'].unique())\n",
    "\n",
    "#Print the first few rows of the dataframe to verify\n",
    "print(df.head())\n"
   ]
  },
  {
   "cell_type": "code",
   "execution_count": 41,
   "id": "47dcfdaa-f92e-43c2-8cf7-2a5dd2c6a954",
   "metadata": {},
   "outputs": [
    {
     "name": "stdout",
     "output_type": "stream",
     "text": [
      "   conflict_id  dyad_id location_inc              side_a side_a_id side_a_2nd  \\\n",
      "0          205      406         Iran  Government of Iran       114    Unknown   \n",
      "1          205      406         Iran  Government of Iran       114    Unknown   \n",
      "2          205      406         Iran  Government of Iran       114    Unknown   \n",
      "3          205      406         Iran  Government of Iran       114    Unknown   \n",
      "4          205      406         Iran  Government of Iran       114    Unknown   \n",
      "\n",
      "  side_b side_b_id side_b_2nd  incompatibility  ... type_of_conflict  \\\n",
      "0   KDPI       164    Unknown                1  ...                3   \n",
      "1   KDPI       164    Unknown                1  ...                3   \n",
      "2   KDPI       164    Unknown                1  ...                3   \n",
      "3   KDPI       164    Unknown                1  ...                3   \n",
      "4   KDPI       164    Unknown                1  ...                3   \n",
      "\n",
      "   battle_location  gwno_a  gwno_a_2nd  gwno_b  gwno_b_2nd gwno_loc  \\\n",
      "0             Iran     630         NaN     NaN         NaN      630   \n",
      "1       Iran, Iraq     630         NaN     NaN         NaN      630   \n",
      "2       Iran, Iraq     630         NaN     NaN         NaN      630   \n",
      "3       Iran, Iraq     630         NaN     NaN         NaN      630   \n",
      "4       Iran, Iraq     630         NaN     NaN         NaN      630   \n",
      "\n",
      "  gwno_battle region version  \n",
      "0         630      2    24.1  \n",
      "1    630, 645      2    24.1  \n",
      "2    630, 645      2    24.1  \n",
      "3    630, 645      2    24.1  \n",
      "4    630, 645      2    24.1  \n",
      "\n",
      "[5 rows x 25 columns]\n",
      "Index(['conflict_id', 'dyad_id', 'location_inc', 'side_a', 'side_a_id',\n",
      "       'side_a_2nd', 'side_b', 'side_b_id', 'side_b_2nd', 'incompatibility',\n",
      "       'territory_name', 'year', 'bd_best', 'bd_low', 'bd_high',\n",
      "       'type_of_conflict', 'battle_location', 'gwno_a', 'gwno_a_2nd', 'gwno_b',\n",
      "       'gwno_b_2nd', 'gwno_loc', 'gwno_battle', 'region', 'version'],\n",
      "      dtype='object')\n",
      "[3 2 4]\n"
     ]
    }
   ],
   "source": [
    "#Re-load the DataFrame\n",
    "csv_path = '/Users/andrewfearney27/cleaned_battle_deaths.csv'\n",
    "df = pd.read_csv(csv_path)\n",
    "\n",
    "#Print the first few rows to verify the data has been loaded correctly\n",
    "print(df.head())\n",
    "\n",
    "#Print the column names to verify they are correct\n",
    "print(df.columns)\n",
    "\n",
    "#Check the unique values in 'type_of_conflict' to verify the column data\n",
    "print(df['type_of_conflict'].unique())\n"
   ]
  },
  {
   "cell_type": "code",
   "execution_count": 42,
   "id": "a1bc6178-c8ff-4b27-aceb-a8fbf2fb6087",
   "metadata": {},
   "outputs": [
    {
     "data": {
      "image/png": "[encoded data removed]",
      "text/plain": [
       "<Figure size 640x480 with 1 Axes>"
      ]
     },
     "metadata": {},
     "output_type": "display_data"
    }
   ],
   "source": [
    "#Q5 Hypothesis 1: year and conflict type\n",
    "\n",
    "#Filter data for conflict type 2 (interstate)\n",
    "conflict_type_2 = df[df['type_of_conflict'] == 2]\n",
    "\n",
    "#Check if there's any data after filtering\n",
    "if not conflict_type_2.empty:\n",
    "    # Scatterplot\n",
    "    sns.scatterplot(x='year', y='bd_best', data=conflict_type_2)\n",
    "    plt.title('Scatterplot of Year vs Interstate Conflict')\n",
    "    plt.xlabel('Year')\n",
    "    plt.ylabel('Interstate Conflict (Best Estimate of Battle Deaths)')\n",
    "    plt.show()\n",
    "else:\n",
    "    print(\"No data available for conflict type 2.\")\n"
   ]
  },
  {
   "cell_type": "code",
   "execution_count": 43,
   "id": "b2bdbfd0-2c8c-4b71-8e8d-2dc46eb4bce3",
   "metadata": {},
   "outputs": [],
   "source": [
    "#Q6 Reshape the variables into NumPy arrays\n",
    "X = conflict_type_2[['year']].values\n",
    "y = conflict_type_2['bd_best'].values\n"
   ]
  },
  {
   "cell_type": "code",
   "execution_count": 44,
   "id": "4c93315f-fd02-4190-afbc-c12b04eabc93",
   "metadata": {},
   "outputs": [],
   "source": [
    "#Q7 Split the data into training and test sets\n",
    "X_train, X_test, y_train, y_test = train_test_split(X, y, test_size=0.2, random_state=42)\n"
   ]
  },
  {
   "cell_type": "code",
   "execution_count": 45,
   "id": "904177fa-1b50-4720-b757-4a4c77b3146c",
   "metadata": {},
   "outputs": [
    {
     "data": {
      "text/html": [
       "<style>#sk-container-id-1 {color: black;background-color: white;}#sk-container-id-1 pre{padding: 0;}#sk-container-id-1 div.sk-toggleable {background-color: white;}#sk-container-id-1 label.sk-toggleable__label {cursor: pointer;display: block;width: 100%;margin-bottom: 0;padding: 0.3em;box-sizing: border-box;text-align: center;}#sk-container-id-1 label.sk-toggleable__label-arrow:before {content: \"▸\";float: left;margin-right: 0.25em;color: #696969;}#sk-container-id-1 label.sk-toggleable__label-arrow:hover:before {color: black;}#sk-container-id-1 div.sk-estimator:hover label.sk-toggleable__label-arrow:before {color: black;}#sk-container-id-1 div.sk-toggleable__content {max-height: 0;max-width: 0;overflow: hidden;text-align: left;background-color: #f0f8ff;}#sk-container-id-1 div.sk-toggleable__content pre {margin: 0.2em;color: black;border-radius: 0.25em;background-color: #f0f8ff;}#sk-container-id-1 input.sk-toggleable__control:checked~div.sk-toggleable__content {max-height: 200px;max-width: 100%;overflow: auto;}#sk-container-id-1 input.sk-toggleable__control:checked~label.sk-toggleable__label-arrow:before {content: \"▾\";}#sk-container-id-1 div.sk-estimator input.sk-toggleable__control:checked~label.sk-toggleable__label {background-color: #d4ebff;}#sk-container-id-1 div.sk-label input.sk-toggleable__control:checked~label.sk-toggleable__label {background-color: #d4ebff;}#sk-container-id-1 input.sk-hidden--visually {border: 0;clip: rect(1px 1px 1px 1px);clip: rect(1px, 1px, 1px, 1px);height: 1px;margin: -1px;overflow: hidden;padding: 0;position: absolute;width: 1px;}#sk-container-id-1 div.sk-estimator {font-family: monospace;background-color: #f0f8ff;border: 1px dotted black;border-radius: 0.25em;box-sizing: border-box;margin-bottom: 0.5em;}#sk-container-id-1 div.sk-estimator:hover {background-color: #d4ebff;}#sk-container-id-1 div.sk-parallel-item::after {content: \"\";width: 100%;border-bottom: 1px solid gray;flex-grow: 1;}#sk-container-id-1 div.sk-label:hover label.sk-toggleable__label {background-color: #d4ebff;}#sk-container-id-1 div.sk-serial::before {content: \"\";position: absolute;border-left: 1px solid gray;box-sizing: border-box;top: 0;bottom: 0;left: 50%;z-index: 0;}#sk-container-id-1 div.sk-serial {display: flex;flex-direction: column;align-items: center;background-color: white;padding-right: 0.2em;padding-left: 0.2em;position: relative;}#sk-container-id-1 div.sk-item {position: relative;z-index: 1;}#sk-container-id-1 div.sk-parallel {display: flex;align-items: stretch;justify-content: center;background-color: white;position: relative;}#sk-container-id-1 div.sk-item::before, #sk-container-id-1 div.sk-parallel-item::before {content: \"\";position: absolute;border-left: 1px solid gray;box-sizing: border-box;top: 0;bottom: 0;left: 50%;z-index: -1;}#sk-container-id-1 div.sk-parallel-item {display: flex;flex-direction: column;z-index: 1;position: relative;background-color: white;}#sk-container-id-1 div.sk-parallel-item:first-child::after {align-self: flex-end;width: 50%;}#sk-container-id-1 div.sk-parallel-item:last-child::after {align-self: flex-start;width: 50%;}#sk-container-id-1 div.sk-parallel-item:only-child::after {width: 0;}#sk-container-id-1 div.sk-dashed-wrapped {border: 1px dashed gray;margin: 0 0.4em 0.5em 0.4em;box-sizing: border-box;padding-bottom: 0.4em;background-color: white;}#sk-container-id-1 div.sk-label label {font-family: monospace;font-weight: bold;display: inline-block;line-height: 1.2em;}#sk-container-id-1 div.sk-label-container {text-align: center;}#sk-container-id-1 div.sk-container {/* jupyter's `normalize.less` sets `[hidden] { display: none; }` but bootstrap.min.css set `[hidden] { display: none !important; }` so we also need the `!important` here to be able to override the default hidden behavior on the sphinx rendered scikit-learn.org. See: https://github.com/scikit-learn/scikit-learn/issues/21755 */display: inline-block !important;position: relative;}#sk-container-id-1 div.sk-text-repr-fallback {display: none;}</style><div id=\"sk-container-id-1\" class=\"sk-top-container\"><div class=\"sk-text-repr-fallback\"><pre>LinearRegression()</pre><b>In a Jupyter environment, please rerun this cell to show the HTML representation or trust the notebook. <br />On GitHub, the HTML representation is unable to render, please try loading this page with nbviewer.org.</b></div><div class=\"sk-container\" hidden><div class=\"sk-item\"><div class=\"sk-estimator sk-toggleable\"><input class=\"sk-toggleable__control sk-hidden--visually\" id=\"sk-estimator-id-1\" type=\"checkbox\" checked><label for=\"sk-estimator-id-1\" class=\"sk-toggleable__label sk-toggleable__label-arrow\">LinearRegression</label><div class=\"sk-toggleable__content\"><pre>LinearRegression()</pre></div></div></div></div></div>"
      ],
      "text/plain": [
       "LinearRegression()"
      ]
     },
     "execution_count": 45,
     "metadata": {},
     "output_type": "execute_result"
    }
   ],
   "source": [
    "#Q8 Run linear regression\n",
    "regressor = LinearRegression()\n",
    "regressor.fit(X_train, y_train)"
   ]
  },
  {
   "cell_type": "code",
   "execution_count": 47,
   "id": "260ac29d-9995-456e-bffc-a8c17e2f4bbe",
   "metadata": {},
   "outputs": [
    {
     "data": {
      "image/png": "[encoded data removed]",
      "text/plain": [
       "<Figure size 640x480 with 1 Axes>"
      ]
     },
     "metadata": {},
     "output_type": "display_data"
    }
   ],
   "source": [
    "#Q9 Predict the test set results\n",
    "y_pred = regressor.predict(X_test)\n",
    "\n",
    "#Create a plot that shows the regression line on the test set\n",
    "plt.scatter(X_test, y_test, color='blue')\n",
    "plt.plot(X_test, y_pred, color='red', linewidth=2)\n",
    "plt.title('Regression Line: Year vs Interstate Conflict')\n",
    "plt.xlabel('Year')\n",
    "plt.ylabel('Interstate Conflict (Best Estimate of Battle Deaths)')\n",
    "plt.show()\n",
    "\n"
   ]
  },
  {
   "cell_type": "code",
   "execution_count": 54,
   "id": "bca5f2d0-2fef-427f-ba1e-c3f1225cd20b",
   "metadata": {},
   "outputs": [
    {
     "name": "stdout",
     "output_type": "stream",
     "text": [
      "Mean Squared Error: 96121847.42344114\n",
      "R-squared: -1.2935092387826428\n"
     ]
    }
   ],
   "source": [
    "#Check the model performance statistics\n",
    "mse = mean_squared_error(y_test, y_pred)\n",
    "r2 = r2_score(y_test, y_pred)\n",
    "\n",
    "print(f'Mean Squared Error: {mse}')\n",
    "print(f'R-squared: {r2}')"
   ]
  },
  {
   "cell_type": "code",
   "execution_count": 56,
   "id": "464e5c53-59bf-43d5-954f-eedecde8806d",
   "metadata": {},
   "outputs": [],
   "source": [
    "#Q10 Reflection on Model Performance\n",
    "\n",
    "#The linear regression model did not perform well on the test data. The \\(R^2\\) value is -1.2935, which indicates that the model does not fit the data well. Additionally, the Mean Squared Error (MSE) is quite high at 96,121,847.4234, suggesting that the predictions are far from the actual values.\n",
    "\n",
    "#There are several possible reasons for this poor performance:\n",
    "\n",
    "#1. Outliers: There might be outliers in the data that are affecting the model. These should be investigated and possibly removed.\n",
    "#2. Non-Linearity: The relationship between the year and the best estimate of battle deaths might not be linear. Exploring non-linear models might provide better results.\n",
    "#3. Data Variability: The variability in the battle deaths across years could be too high for a linear model to capture effectively.\n",
    "#4. Insufficient Data: The number of data points might be too small to train an effective model.\n",
    "\n",
    "#Future steps could include exploring different types of regression models, such as polynomial regression, or using more sophisticated machine learning algorithms to capture the relationship more accurately.```\n"
   ]
  },
  {
   "cell_type": "code",
   "execution_count": 57,
   "id": "1502de2e-b82e-41eb-ad82-4cbd39a6741f",
   "metadata": {},
   "outputs": [],
   "source": [
    "### Data Bias\n",
    "\n",
    "#The data might be biased due to various factors such as reporting discrepancies, political influences, or differences in data collection methods across regions and time periods. \n",
    "#These biases can affect the accuracy and reliability of the model's predictions."
   ]
  }
 ],
 "metadata": {
  "kernelspec": {
   "display_name": "Python 3 (ipykernel)",
   "language": "python",
   "name": "python3"
  },
  "language_info": {
   "codemirror_mode": {
    "name": "ipython",
    "version": 3
   },
   "file_extension": ".py",
   "mimetype": "text/x-python",
   "name": "python",
   "nbconvert_exporter": "python",
   "pygments_lexer": "ipython3",
   "version": "3.11.7"
  }
 },
 "nbformat": 4,
 "nbformat_minor": 5
}
